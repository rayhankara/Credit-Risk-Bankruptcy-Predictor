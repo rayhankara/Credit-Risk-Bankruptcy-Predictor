{
 "cells": [
  {
   "cell_type": "markdown",
   "metadata": {},
   "source": [
    "### importing modules"
   ]
  },
  {
   "cell_type": "code",
   "execution_count": 48,
   "metadata": {},
   "outputs": [],
   "source": [
    "import pandas as pd\n",
    "import numpy as np\n",
    "import seaborn as sns\n",
    "import matplotlib.pyplot as plt"
   ]
  },
  {
   "cell_type": "code",
   "execution_count": 49,
   "metadata": {},
   "outputs": [],
   "source": [
    "df = pd.read_csv(\"data.csv\")"
   ]
  },
  {
   "cell_type": "code",
   "execution_count": 50,
   "metadata": {},
   "outputs": [
    {
     "data": {
      "text/html": [
       "<div>\n",
       "<style scoped>\n",
       "    .dataframe tbody tr th:only-of-type {\n",
       "        vertical-align: middle;\n",
       "    }\n",
       "\n",
       "    .dataframe tbody tr th {\n",
       "        vertical-align: top;\n",
       "    }\n",
       "\n",
       "    .dataframe thead th {\n",
       "        text-align: right;\n",
       "    }\n",
       "</style>\n",
       "<table border=\"1\" class=\"dataframe\">\n",
       "  <thead>\n",
       "    <tr style=\"text-align: right;\">\n",
       "      <th></th>\n",
       "      <th>Bankrupt?</th>\n",
       "      <th>ROA(C) before interest and depreciation before interest</th>\n",
       "      <th>ROA(A) before interest and % after tax</th>\n",
       "      <th>ROA(B) before interest and depreciation after tax</th>\n",
       "      <th>Operating Gross Margin</th>\n",
       "      <th>Realized Sales Gross Margin</th>\n",
       "      <th>Operating Profit Rate</th>\n",
       "      <th>Pre-tax net Interest Rate</th>\n",
       "      <th>After-tax net Interest Rate</th>\n",
       "      <th>Non-industry income and expenditure/revenue</th>\n",
       "      <th>...</th>\n",
       "      <th>Net Income to Total Assets</th>\n",
       "      <th>Total assets to GNP price</th>\n",
       "      <th>No-credit Interval</th>\n",
       "      <th>Gross Profit to Sales</th>\n",
       "      <th>Net Income to Stockholder's Equity</th>\n",
       "      <th>Liability to Equity</th>\n",
       "      <th>Degree of Financial Leverage (DFL)</th>\n",
       "      <th>Interest Coverage Ratio (Interest expense to EBIT)</th>\n",
       "      <th>Net Income Flag</th>\n",
       "      <th>Equity to Liability</th>\n",
       "    </tr>\n",
       "  </thead>\n",
       "  <tbody>\n",
       "    <tr>\n",
       "      <th>0</th>\n",
       "      <td>1</td>\n",
       "      <td>0.370594</td>\n",
       "      <td>0.424389</td>\n",
       "      <td>0.405750</td>\n",
       "      <td>0.601457</td>\n",
       "      <td>0.601457</td>\n",
       "      <td>0.998969</td>\n",
       "      <td>0.796887</td>\n",
       "      <td>0.808809</td>\n",
       "      <td>0.302646</td>\n",
       "      <td>...</td>\n",
       "      <td>0.716845</td>\n",
       "      <td>0.009219</td>\n",
       "      <td>0.622879</td>\n",
       "      <td>0.601453</td>\n",
       "      <td>0.827890</td>\n",
       "      <td>0.290202</td>\n",
       "      <td>0.026601</td>\n",
       "      <td>0.564050</td>\n",
       "      <td>1</td>\n",
       "      <td>0.016469</td>\n",
       "    </tr>\n",
       "    <tr>\n",
       "      <th>1</th>\n",
       "      <td>1</td>\n",
       "      <td>0.464291</td>\n",
       "      <td>0.538214</td>\n",
       "      <td>0.516730</td>\n",
       "      <td>0.610235</td>\n",
       "      <td>0.610235</td>\n",
       "      <td>0.998946</td>\n",
       "      <td>0.797380</td>\n",
       "      <td>0.809301</td>\n",
       "      <td>0.303556</td>\n",
       "      <td>...</td>\n",
       "      <td>0.795297</td>\n",
       "      <td>0.008323</td>\n",
       "      <td>0.623652</td>\n",
       "      <td>0.610237</td>\n",
       "      <td>0.839969</td>\n",
       "      <td>0.283846</td>\n",
       "      <td>0.264577</td>\n",
       "      <td>0.570175</td>\n",
       "      <td>1</td>\n",
       "      <td>0.020794</td>\n",
       "    </tr>\n",
       "    <tr>\n",
       "      <th>2</th>\n",
       "      <td>1</td>\n",
       "      <td>0.426071</td>\n",
       "      <td>0.499019</td>\n",
       "      <td>0.472295</td>\n",
       "      <td>0.601450</td>\n",
       "      <td>0.601364</td>\n",
       "      <td>0.998857</td>\n",
       "      <td>0.796403</td>\n",
       "      <td>0.808388</td>\n",
       "      <td>0.302035</td>\n",
       "      <td>...</td>\n",
       "      <td>0.774670</td>\n",
       "      <td>0.040003</td>\n",
       "      <td>0.623841</td>\n",
       "      <td>0.601449</td>\n",
       "      <td>0.836774</td>\n",
       "      <td>0.290189</td>\n",
       "      <td>0.026555</td>\n",
       "      <td>0.563706</td>\n",
       "      <td>1</td>\n",
       "      <td>0.016474</td>\n",
       "    </tr>\n",
       "    <tr>\n",
       "      <th>3</th>\n",
       "      <td>1</td>\n",
       "      <td>0.399844</td>\n",
       "      <td>0.451265</td>\n",
       "      <td>0.457733</td>\n",
       "      <td>0.583541</td>\n",
       "      <td>0.583541</td>\n",
       "      <td>0.998700</td>\n",
       "      <td>0.796967</td>\n",
       "      <td>0.808966</td>\n",
       "      <td>0.303350</td>\n",
       "      <td>...</td>\n",
       "      <td>0.739555</td>\n",
       "      <td>0.003252</td>\n",
       "      <td>0.622929</td>\n",
       "      <td>0.583538</td>\n",
       "      <td>0.834697</td>\n",
       "      <td>0.281721</td>\n",
       "      <td>0.026697</td>\n",
       "      <td>0.564663</td>\n",
       "      <td>1</td>\n",
       "      <td>0.023982</td>\n",
       "    </tr>\n",
       "    <tr>\n",
       "      <th>4</th>\n",
       "      <td>1</td>\n",
       "      <td>0.465022</td>\n",
       "      <td>0.538432</td>\n",
       "      <td>0.522298</td>\n",
       "      <td>0.598783</td>\n",
       "      <td>0.598783</td>\n",
       "      <td>0.998973</td>\n",
       "      <td>0.797366</td>\n",
       "      <td>0.809304</td>\n",
       "      <td>0.303475</td>\n",
       "      <td>...</td>\n",
       "      <td>0.795016</td>\n",
       "      <td>0.003878</td>\n",
       "      <td>0.623521</td>\n",
       "      <td>0.598782</td>\n",
       "      <td>0.839973</td>\n",
       "      <td>0.278514</td>\n",
       "      <td>0.024752</td>\n",
       "      <td>0.575617</td>\n",
       "      <td>1</td>\n",
       "      <td>0.035490</td>\n",
       "    </tr>\n",
       "    <tr>\n",
       "      <th>...</th>\n",
       "      <td>...</td>\n",
       "      <td>...</td>\n",
       "      <td>...</td>\n",
       "      <td>...</td>\n",
       "      <td>...</td>\n",
       "      <td>...</td>\n",
       "      <td>...</td>\n",
       "      <td>...</td>\n",
       "      <td>...</td>\n",
       "      <td>...</td>\n",
       "      <td>...</td>\n",
       "      <td>...</td>\n",
       "      <td>...</td>\n",
       "      <td>...</td>\n",
       "      <td>...</td>\n",
       "      <td>...</td>\n",
       "      <td>...</td>\n",
       "      <td>...</td>\n",
       "      <td>...</td>\n",
       "      <td>...</td>\n",
       "      <td>...</td>\n",
       "    </tr>\n",
       "    <tr>\n",
       "      <th>6814</th>\n",
       "      <td>0</td>\n",
       "      <td>0.493687</td>\n",
       "      <td>0.539468</td>\n",
       "      <td>0.543230</td>\n",
       "      <td>0.604455</td>\n",
       "      <td>0.604462</td>\n",
       "      <td>0.998992</td>\n",
       "      <td>0.797409</td>\n",
       "      <td>0.809331</td>\n",
       "      <td>0.303510</td>\n",
       "      <td>...</td>\n",
       "      <td>0.799927</td>\n",
       "      <td>0.000466</td>\n",
       "      <td>0.623620</td>\n",
       "      <td>0.604455</td>\n",
       "      <td>0.840359</td>\n",
       "      <td>0.279606</td>\n",
       "      <td>0.027064</td>\n",
       "      <td>0.566193</td>\n",
       "      <td>1</td>\n",
       "      <td>0.029890</td>\n",
       "    </tr>\n",
       "    <tr>\n",
       "      <th>6815</th>\n",
       "      <td>0</td>\n",
       "      <td>0.475162</td>\n",
       "      <td>0.538269</td>\n",
       "      <td>0.524172</td>\n",
       "      <td>0.598308</td>\n",
       "      <td>0.598308</td>\n",
       "      <td>0.998992</td>\n",
       "      <td>0.797414</td>\n",
       "      <td>0.809327</td>\n",
       "      <td>0.303520</td>\n",
       "      <td>...</td>\n",
       "      <td>0.799748</td>\n",
       "      <td>0.001959</td>\n",
       "      <td>0.623931</td>\n",
       "      <td>0.598306</td>\n",
       "      <td>0.840306</td>\n",
       "      <td>0.278132</td>\n",
       "      <td>0.027009</td>\n",
       "      <td>0.566018</td>\n",
       "      <td>1</td>\n",
       "      <td>0.038284</td>\n",
       "    </tr>\n",
       "    <tr>\n",
       "      <th>6816</th>\n",
       "      <td>0</td>\n",
       "      <td>0.472725</td>\n",
       "      <td>0.533744</td>\n",
       "      <td>0.520638</td>\n",
       "      <td>0.610444</td>\n",
       "      <td>0.610213</td>\n",
       "      <td>0.998984</td>\n",
       "      <td>0.797401</td>\n",
       "      <td>0.809317</td>\n",
       "      <td>0.303512</td>\n",
       "      <td>...</td>\n",
       "      <td>0.797778</td>\n",
       "      <td>0.002840</td>\n",
       "      <td>0.624156</td>\n",
       "      <td>0.610441</td>\n",
       "      <td>0.840138</td>\n",
       "      <td>0.275789</td>\n",
       "      <td>0.026791</td>\n",
       "      <td>0.565158</td>\n",
       "      <td>1</td>\n",
       "      <td>0.097649</td>\n",
       "    </tr>\n",
       "    <tr>\n",
       "      <th>6817</th>\n",
       "      <td>0</td>\n",
       "      <td>0.506264</td>\n",
       "      <td>0.559911</td>\n",
       "      <td>0.554045</td>\n",
       "      <td>0.607850</td>\n",
       "      <td>0.607850</td>\n",
       "      <td>0.999074</td>\n",
       "      <td>0.797500</td>\n",
       "      <td>0.809399</td>\n",
       "      <td>0.303498</td>\n",
       "      <td>...</td>\n",
       "      <td>0.811808</td>\n",
       "      <td>0.002837</td>\n",
       "      <td>0.623957</td>\n",
       "      <td>0.607846</td>\n",
       "      <td>0.841084</td>\n",
       "      <td>0.277547</td>\n",
       "      <td>0.026822</td>\n",
       "      <td>0.565302</td>\n",
       "      <td>1</td>\n",
       "      <td>0.044009</td>\n",
       "    </tr>\n",
       "    <tr>\n",
       "      <th>6818</th>\n",
       "      <td>0</td>\n",
       "      <td>0.493053</td>\n",
       "      <td>0.570105</td>\n",
       "      <td>0.549548</td>\n",
       "      <td>0.627409</td>\n",
       "      <td>0.627409</td>\n",
       "      <td>0.998080</td>\n",
       "      <td>0.801987</td>\n",
       "      <td>0.813800</td>\n",
       "      <td>0.313415</td>\n",
       "      <td>...</td>\n",
       "      <td>0.815956</td>\n",
       "      <td>0.000707</td>\n",
       "      <td>0.626680</td>\n",
       "      <td>0.627408</td>\n",
       "      <td>0.841019</td>\n",
       "      <td>0.275114</td>\n",
       "      <td>0.026793</td>\n",
       "      <td>0.565167</td>\n",
       "      <td>1</td>\n",
       "      <td>0.233902</td>\n",
       "    </tr>\n",
       "  </tbody>\n",
       "</table>\n",
       "<p>6819 rows × 96 columns</p>\n",
       "</div>"
      ],
      "text/plain": [
       "      Bankrupt?   ROA(C) before interest and depreciation before interest  \\\n",
       "0             1                                           0.370594          \n",
       "1             1                                           0.464291          \n",
       "2             1                                           0.426071          \n",
       "3             1                                           0.399844          \n",
       "4             1                                           0.465022          \n",
       "...         ...                                                ...          \n",
       "6814          0                                           0.493687          \n",
       "6815          0                                           0.475162          \n",
       "6816          0                                           0.472725          \n",
       "6817          0                                           0.506264          \n",
       "6818          0                                           0.493053          \n",
       "\n",
       "       ROA(A) before interest and % after tax  \\\n",
       "0                                    0.424389   \n",
       "1                                    0.538214   \n",
       "2                                    0.499019   \n",
       "3                                    0.451265   \n",
       "4                                    0.538432   \n",
       "...                                       ...   \n",
       "6814                                 0.539468   \n",
       "6815                                 0.538269   \n",
       "6816                                 0.533744   \n",
       "6817                                 0.559911   \n",
       "6818                                 0.570105   \n",
       "\n",
       "       ROA(B) before interest and depreciation after tax  \\\n",
       "0                                              0.405750    \n",
       "1                                              0.516730    \n",
       "2                                              0.472295    \n",
       "3                                              0.457733    \n",
       "4                                              0.522298    \n",
       "...                                                 ...    \n",
       "6814                                           0.543230    \n",
       "6815                                           0.524172    \n",
       "6816                                           0.520638    \n",
       "6817                                           0.554045    \n",
       "6818                                           0.549548    \n",
       "\n",
       "       Operating Gross Margin   Realized Sales Gross Margin  \\\n",
       "0                    0.601457                      0.601457   \n",
       "1                    0.610235                      0.610235   \n",
       "2                    0.601450                      0.601364   \n",
       "3                    0.583541                      0.583541   \n",
       "4                    0.598783                      0.598783   \n",
       "...                       ...                           ...   \n",
       "6814                 0.604455                      0.604462   \n",
       "6815                 0.598308                      0.598308   \n",
       "6816                 0.610444                      0.610213   \n",
       "6817                 0.607850                      0.607850   \n",
       "6818                 0.627409                      0.627409   \n",
       "\n",
       "       Operating Profit Rate   Pre-tax net Interest Rate  \\\n",
       "0                   0.998969                    0.796887   \n",
       "1                   0.998946                    0.797380   \n",
       "2                   0.998857                    0.796403   \n",
       "3                   0.998700                    0.796967   \n",
       "4                   0.998973                    0.797366   \n",
       "...                      ...                         ...   \n",
       "6814                0.998992                    0.797409   \n",
       "6815                0.998992                    0.797414   \n",
       "6816                0.998984                    0.797401   \n",
       "6817                0.999074                    0.797500   \n",
       "6818                0.998080                    0.801987   \n",
       "\n",
       "       After-tax net Interest Rate  \\\n",
       "0                         0.808809   \n",
       "1                         0.809301   \n",
       "2                         0.808388   \n",
       "3                         0.808966   \n",
       "4                         0.809304   \n",
       "...                            ...   \n",
       "6814                      0.809331   \n",
       "6815                      0.809327   \n",
       "6816                      0.809317   \n",
       "6817                      0.809399   \n",
       "6818                      0.813800   \n",
       "\n",
       "       Non-industry income and expenditure/revenue  ...  \\\n",
       "0                                         0.302646  ...   \n",
       "1                                         0.303556  ...   \n",
       "2                                         0.302035  ...   \n",
       "3                                         0.303350  ...   \n",
       "4                                         0.303475  ...   \n",
       "...                                            ...  ...   \n",
       "6814                                      0.303510  ...   \n",
       "6815                                      0.303520  ...   \n",
       "6816                                      0.303512  ...   \n",
       "6817                                      0.303498  ...   \n",
       "6818                                      0.313415  ...   \n",
       "\n",
       "       Net Income to Total Assets   Total assets to GNP price  \\\n",
       "0                        0.716845                    0.009219   \n",
       "1                        0.795297                    0.008323   \n",
       "2                        0.774670                    0.040003   \n",
       "3                        0.739555                    0.003252   \n",
       "4                        0.795016                    0.003878   \n",
       "...                           ...                         ...   \n",
       "6814                     0.799927                    0.000466   \n",
       "6815                     0.799748                    0.001959   \n",
       "6816                     0.797778                    0.002840   \n",
       "6817                     0.811808                    0.002837   \n",
       "6818                     0.815956                    0.000707   \n",
       "\n",
       "       No-credit Interval   Gross Profit to Sales  \\\n",
       "0                0.622879                0.601453   \n",
       "1                0.623652                0.610237   \n",
       "2                0.623841                0.601449   \n",
       "3                0.622929                0.583538   \n",
       "4                0.623521                0.598782   \n",
       "...                   ...                     ...   \n",
       "6814             0.623620                0.604455   \n",
       "6815             0.623931                0.598306   \n",
       "6816             0.624156                0.610441   \n",
       "6817             0.623957                0.607846   \n",
       "6818             0.626680                0.627408   \n",
       "\n",
       "       Net Income to Stockholder's Equity   Liability to Equity  \\\n",
       "0                                0.827890              0.290202   \n",
       "1                                0.839969              0.283846   \n",
       "2                                0.836774              0.290189   \n",
       "3                                0.834697              0.281721   \n",
       "4                                0.839973              0.278514   \n",
       "...                                   ...                   ...   \n",
       "6814                             0.840359              0.279606   \n",
       "6815                             0.840306              0.278132   \n",
       "6816                             0.840138              0.275789   \n",
       "6817                             0.841084              0.277547   \n",
       "6818                             0.841019              0.275114   \n",
       "\n",
       "       Degree of Financial Leverage (DFL)  \\\n",
       "0                                0.026601   \n",
       "1                                0.264577   \n",
       "2                                0.026555   \n",
       "3                                0.026697   \n",
       "4                                0.024752   \n",
       "...                                   ...   \n",
       "6814                             0.027064   \n",
       "6815                             0.027009   \n",
       "6816                             0.026791   \n",
       "6817                             0.026822   \n",
       "6818                             0.026793   \n",
       "\n",
       "       Interest Coverage Ratio (Interest expense to EBIT)   Net Income Flag  \\\n",
       "0                                              0.564050                   1   \n",
       "1                                              0.570175                   1   \n",
       "2                                              0.563706                   1   \n",
       "3                                              0.564663                   1   \n",
       "4                                              0.575617                   1   \n",
       "...                                                 ...                 ...   \n",
       "6814                                           0.566193                   1   \n",
       "6815                                           0.566018                   1   \n",
       "6816                                           0.565158                   1   \n",
       "6817                                           0.565302                   1   \n",
       "6818                                           0.565167                   1   \n",
       "\n",
       "       Equity to Liability  \n",
       "0                 0.016469  \n",
       "1                 0.020794  \n",
       "2                 0.016474  \n",
       "3                 0.023982  \n",
       "4                 0.035490  \n",
       "...                    ...  \n",
       "6814              0.029890  \n",
       "6815              0.038284  \n",
       "6816              0.097649  \n",
       "6817              0.044009  \n",
       "6818              0.233902  \n",
       "\n",
       "[6819 rows x 96 columns]"
      ]
     },
     "execution_count": 50,
     "metadata": {},
     "output_type": "execute_result"
    }
   ],
   "source": [
    "df"
   ]
  },
  {
   "cell_type": "code",
   "execution_count": 51,
   "metadata": {},
   "outputs": [],
   "source": [
    "df.columns = df.columns.str.strip()"
   ]
  },
  {
   "cell_type": "code",
   "execution_count": 52,
   "metadata": {},
   "outputs": [
    {
     "data": {
      "text/plain": [
       "Index(['Bankrupt?', 'ROA(C) before interest and depreciation before interest',\n",
       "       'ROA(A) before interest and % after tax',\n",
       "       'ROA(B) before interest and depreciation after tax',\n",
       "       'Operating Gross Margin', 'Realized Sales Gross Margin',\n",
       "       'Operating Profit Rate', 'Pre-tax net Interest Rate',\n",
       "       'After-tax net Interest Rate',\n",
       "       'Non-industry income and expenditure/revenue',\n",
       "       'Continuous interest rate (after tax)', 'Operating Expense Rate',\n",
       "       'Research and development expense rate', 'Cash flow rate',\n",
       "       'Interest-bearing debt interest rate', 'Tax rate (A)',\n",
       "       'Net Value Per Share (B)', 'Net Value Per Share (A)',\n",
       "       'Net Value Per Share (C)', 'Persistent EPS in the Last Four Seasons',\n",
       "       'Cash Flow Per Share', 'Revenue Per Share (Yuan ¥)',\n",
       "       'Operating Profit Per Share (Yuan ¥)',\n",
       "       'Per Share Net profit before tax (Yuan ¥)',\n",
       "       'Realized Sales Gross Profit Growth Rate',\n",
       "       'Operating Profit Growth Rate', 'After-tax Net Profit Growth Rate',\n",
       "       'Regular Net Profit Growth Rate', 'Continuous Net Profit Growth Rate',\n",
       "       'Total Asset Growth Rate', 'Net Value Growth Rate',\n",
       "       'Total Asset Return Growth Rate Ratio', 'Cash Reinvestment %',\n",
       "       'Current Ratio', 'Quick Ratio', 'Interest Expense Ratio',\n",
       "       'Total debt/Total net worth', 'Debt ratio %', 'Net worth/Assets',\n",
       "       'Long-term fund suitability ratio (A)', 'Borrowing dependency',\n",
       "       'Contingent liabilities/Net worth', 'Operating profit/Paid-in capital',\n",
       "       'Net profit before tax/Paid-in capital',\n",
       "       'Inventory and accounts receivable/Net value', 'Total Asset Turnover',\n",
       "       'Accounts Receivable Turnover', 'Average Collection Days',\n",
       "       'Inventory Turnover Rate (times)', 'Fixed Assets Turnover Frequency',\n",
       "       'Net Worth Turnover Rate (times)', 'Revenue per person',\n",
       "       'Operating profit per person', 'Allocation rate per person',\n",
       "       'Working Capital to Total Assets', 'Quick Assets/Total Assets',\n",
       "       'Current Assets/Total Assets', 'Cash/Total Assets',\n",
       "       'Quick Assets/Current Liability', 'Cash/Current Liability',\n",
       "       'Current Liability to Assets', 'Operating Funds to Liability',\n",
       "       'Inventory/Working Capital', 'Inventory/Current Liability',\n",
       "       'Current Liabilities/Liability', 'Working Capital/Equity',\n",
       "       'Current Liabilities/Equity', 'Long-term Liability to Current Assets',\n",
       "       'Retained Earnings to Total Assets', 'Total income/Total expense',\n",
       "       'Total expense/Assets', 'Current Asset Turnover Rate',\n",
       "       'Quick Asset Turnover Rate', 'Working capitcal Turnover Rate',\n",
       "       'Cash Turnover Rate', 'Cash Flow to Sales', 'Fixed Assets to Assets',\n",
       "       'Current Liability to Liability', 'Current Liability to Equity',\n",
       "       'Equity to Long-term Liability', 'Cash Flow to Total Assets',\n",
       "       'Cash Flow to Liability', 'CFO to Assets', 'Cash Flow to Equity',\n",
       "       'Current Liability to Current Assets', 'Liability-Assets Flag',\n",
       "       'Net Income to Total Assets', 'Total assets to GNP price',\n",
       "       'No-credit Interval', 'Gross Profit to Sales',\n",
       "       'Net Income to Stockholder's Equity', 'Liability to Equity',\n",
       "       'Degree of Financial Leverage (DFL)',\n",
       "       'Interest Coverage Ratio (Interest expense to EBIT)', 'Net Income Flag',\n",
       "       'Equity to Liability'],\n",
       "      dtype='object')"
      ]
     },
     "execution_count": 52,
     "metadata": {},
     "output_type": "execute_result"
    }
   ],
   "source": [
    "df.columns"
   ]
  },
  {
   "cell_type": "markdown",
   "metadata": {},
   "source": [
    "### Preporcessing Data"
   ]
  },
  {
   "cell_type": "code",
   "execution_count": 53,
   "metadata": {},
   "outputs": [
    {
     "data": {
      "text/plain": [
       "Bankrupt?                                                  1.000000\n",
       "Net Income to Total Assets                                 0.315457\n",
       "ROA(A) before interest and % after tax                     0.282941\n",
       "ROA(B) before interest and depreciation after tax          0.273051\n",
       "ROA(C) before interest and depreciation before interest    0.260807\n",
       "Net worth/Assets                                           0.250161\n",
       "Debt ratio %                                               0.250161\n",
       "Persistent EPS in the Last Four Seasons                    0.219560\n",
       "Retained Earnings to Total Assets                          0.217779\n",
       "Net profit before tax/Paid-in capital                      0.207857\n",
       "Per Share Net profit before tax (Yuan ¥)                   0.201395\n",
       "Current Liability to Assets                                0.194494\n",
       "Working Capital to Total Assets                            0.193083\n",
       "Net Income to Stockholder's Equity                         0.180987\n",
       "Borrowing dependency                                       0.176543\n",
       "Current Liability to Current Assets                        0.171306\n",
       "Liability to Equity                                        0.166812\n",
       "Net Value Per Share (A)                                    0.165465\n",
       "Net Value Per Share (B)                                    0.165399\n",
       "Net Value Per Share (C)                                    0.164784\n",
       "Current Liability to Equity                                0.153828\n",
       "Current Liabilities/Equity                                 0.153828\n",
       "Working Capital/Equity                                     0.147221\n",
       "Operating Profit Per Share (Yuan ¥)                        0.142051\n",
       "Operating profit/Paid-in capital                           0.141111\n",
       "Name: Bankrupt?, dtype: float64"
      ]
     },
     "execution_count": 53,
     "metadata": {},
     "output_type": "execute_result"
    }
   ],
   "source": [
    "df.corr()[\"Bankrupt?\"].abs().sort_values(ascending=False).head(25)"
   ]
  },
  {
   "cell_type": "code",
   "execution_count": 54,
   "metadata": {},
   "outputs": [],
   "source": [
    "columns25 = df.corr()[\"Bankrupt?\"].abs().sort_values(ascending=False).head(25)"
   ]
  },
  {
   "cell_type": "code",
   "execution_count": 55,
   "metadata": {},
   "outputs": [],
   "source": [
    "selected = columns = [\n",
    "    \"Bankrupt?\",\n",
    "    \"Net Income to Total Assets\",\n",
    "    \"Net worth/Assets\",\n",
    "    \"Retained Earnings to Total Assets\",\n",
    "    \"Net profit before tax/Paid-in capital\",\n",
    "    \"Working Capital to Total Assets\",\n",
    "    \"Net Income to Stockholder's Equity\",\n",
    "    \"Current Liability to Current Assets\",\n",
    "    \"Liability to Equity\",\n",
    "    \"Net Value Per Share (A)\",\n",
    "   \"Current Liability to Assets\",\n",
    "]\n"
   ]
  },
  {
   "cell_type": "code",
   "execution_count": null,
   "metadata": {},
   "outputs": [],
   "source": []
  },
  {
   "cell_type": "code",
   "execution_count": 56,
   "metadata": {},
   "outputs": [],
   "source": [
    "df25 = df[selected]"
   ]
  },
  {
   "cell_type": "code",
   "execution_count": 57,
   "metadata": {},
   "outputs": [
    {
     "data": {
      "text/plain": [
       "Bankrupt?                                1.000000\n",
       "Net Income to Total Assets               0.315457\n",
       "Net worth/Assets                         0.250161\n",
       "Retained Earnings to Total Assets        0.217779\n",
       "Net profit before tax/Paid-in capital    0.207857\n",
       "Current Liability to Assets              0.194494\n",
       "Working Capital to Total Assets          0.193083\n",
       "Net Income to Stockholder's Equity       0.180987\n",
       "Current Liability to Current Assets      0.171306\n",
       "Liability to Equity                      0.166812\n",
       "Net Value Per Share (A)                  0.165465\n",
       "Name: Bankrupt?, dtype: float64"
      ]
     },
     "execution_count": 57,
     "metadata": {},
     "output_type": "execute_result"
    }
   ],
   "source": [
    "df25.corr()[\"Bankrupt?\"].abs().sort_values(ascending=False)"
   ]
  },
  {
   "cell_type": "code",
   "execution_count": 58,
   "metadata": {},
   "outputs": [
    {
     "data": {
      "text/plain": [
       "<Axes: >"
      ]
     },
     "execution_count": 58,
     "metadata": {},
     "output_type": "execute_result"
    },
    {
     "data": {
      "image/png": "[encoded data removed]",
      "text/plain": [
       "<Figure size 1500x800 with 2 Axes>"
      ]
     },
     "metadata": {},
     "output_type": "display_data"
    }
   ],
   "source": [
    "plt.figure(figsize=(15,8))\n",
    "sns.heatmap(df25.corr().abs(), cmap=\"magma\")"
   ]
  },
  {
   "cell_type": "code",
   "execution_count": 59,
   "metadata": {},
   "outputs": [
    {
     "name": "stdout",
     "output_type": "stream",
     "text": [
      "Bankrupt?                                0\n",
      "Net Income to Total Assets               0\n",
      "Net worth/Assets                         0\n",
      "Retained Earnings to Total Assets        0\n",
      "Net profit before tax/Paid-in capital    0\n",
      "Working Capital to Total Assets          0\n",
      "Net Income to Stockholder's Equity       0\n",
      "Current Liability to Current Assets      0\n",
      "Liability to Equity                      0\n",
      "Net Value Per Share (A)                  0\n",
      "Current Liability to Assets              0\n",
      "dtype: int64\n"
     ]
    }
   ],
   "source": [
    "print(df25.isnull().sum())\n"
   ]
  },
  {
   "cell_type": "markdown",
   "metadata": {},
   "source": [
    "### Model Preprocessing"
   ]
  },
  {
   "cell_type": "code",
   "execution_count": 60,
   "metadata": {},
   "outputs": [],
   "source": [
    "from sklearn.model_selection import train_test_split\n",
    "from sklearn.ensemble import RandomForestClassifier\n",
    "from sklearn.metrics import accuracy_score, classification_report, confusion_matrix\n",
    "from sklearn.preprocessing import StandardScaler"
   ]
  },
  {
   "cell_type": "code",
   "execution_count": 61,
   "metadata": {},
   "outputs": [],
   "source": [
    "X = df25.drop(\"Bankrupt?\", axis=1)\n",
    "y = df25[\"Bankrupt?\"]"
   ]
  },
  {
   "cell_type": "code",
   "execution_count": 62,
   "metadata": {},
   "outputs": [],
   "source": [
    "X_train, X_test, y_train, y_test = train_test_split(X, y, test_size=0.2, random_state=7)"
   ]
  },
  {
   "cell_type": "markdown",
   "metadata": {},
   "source": [
    "### Random Forest "
   ]
  },
  {
   "cell_type": "code",
   "execution_count": 63,
   "metadata": {},
   "outputs": [],
   "source": [
    "random_forest = RandomForestClassifier()\n",
    "random_forest.fit(X_train,y_train)\n",
    "random_forest_predicitons = random_forest.predict(X_test)"
   ]
  },
  {
   "cell_type": "code",
   "execution_count": 64,
   "metadata": {},
   "outputs": [
    {
     "name": "stdout",
     "output_type": "stream",
     "text": [
      "Accuracy: 0.9604105571847508\n",
      "Classification Report:\n",
      "               precision    recall  f1-score   support\n",
      "\n",
      "           0       0.96      1.00      0.98      1303\n",
      "           1       0.82      0.15      0.25        61\n",
      "\n",
      "    accuracy                           0.96      1364\n",
      "   macro avg       0.89      0.57      0.61      1364\n",
      "weighted avg       0.96      0.96      0.95      1364\n",
      "\n",
      "Confusion Matrix:\n",
      " [[1301    2]\n",
      " [  52    9]]\n"
     ]
    }
   ],
   "source": [
    "# Accuracy\n",
    "print(\"Accuracy:\", accuracy_score(y_test, random_forest_predicitons))\n",
    "\n",
    "# Classification Report\n",
    "print(\"Classification Report:\\n\", classification_report(y_test, random_forest_predicitons))\n",
    "\n",
    "# Confusion Matrix\n",
    "print(\"Confusion Matrix:\\n\", confusion_matrix(y_test, random_forest_predicitons))\n"
   ]
  },
  {
   "cell_type": "markdown",
   "metadata": {},
   "source": [
    "### Logistic regression unscaled, balanced"
   ]
  },
  {
   "cell_type": "code",
   "execution_count": 65,
   "metadata": {},
   "outputs": [],
   "source": [
    "from sklearn.linear_model import LogisticRegression\n",
    "\n",
    "log_model = LogisticRegression(class_weight='balanced', random_state=7)\n",
    "log_model.fit(X_train, y_train)\n",
    "\n",
    "y_pred = log_model.predict(X_test)\n"
   ]
  },
  {
   "cell_type": "code",
   "execution_count": 66,
   "metadata": {},
   "outputs": [
    {
     "name": "stdout",
     "output_type": "stream",
     "text": [
      "Accuracy: 0.8504398826979472\n",
      "Classification Report:\n",
      "               precision    recall  f1-score   support\n",
      "\n",
      "           0       0.99      0.85      0.92      1303\n",
      "           1       0.22      0.90      0.35        61\n",
      "\n",
      "    accuracy                           0.85      1364\n",
      "   macro avg       0.61      0.87      0.63      1364\n",
      "weighted avg       0.96      0.85      0.89      1364\n",
      "\n"
     ]
    }
   ],
   "source": [
    "from sklearn.metrics import accuracy_score, classification_report\n",
    "print(\"Accuracy:\", accuracy_score(y_test, y_pred))\n",
    "print(\"Classification Report:\\n\", classification_report(y_test, y_pred))"
   ]
  },
  {
   "cell_type": "markdown",
   "metadata": {},
   "source": [
    "### Improving the random forest"
   ]
  },
  {
   "cell_type": "code",
   "execution_count": 67,
   "metadata": {},
   "outputs": [
    {
     "name": "stdout",
     "output_type": "stream",
     "text": [
      "Best Parameters: {'class_weight': 'balanced', 'max_depth': 10, 'min_samples_leaf': 1, 'min_samples_split': 5, 'n_estimators': 77}\n"
     ]
    }
   ],
   "source": [
    "from sklearn.model_selection import RandomizedSearchCV\n",
    "from scipy.stats import randint\n",
    "\n",
    "param_distributions = {\n",
    "    'n_estimators': randint(50, 200),\n",
    "    'max_depth': [10, 20, 30, None],\n",
    "    'min_samples_split': [2, 5, 10],\n",
    "    'min_samples_leaf': [1, 2, 4],\n",
    "    'class_weight': ['balanced']\n",
    "}\n",
    "\n",
    "random_search = RandomizedSearchCV(\n",
    "    estimator=RandomForestClassifier(random_state=42),\n",
    "    param_distributions=param_distributions,\n",
    "    n_iter=50,  # Number of random combinations to test\n",
    "    cv=3,       # Fewer cross-validation folds\n",
    "    scoring='recall',  # Optimize for recall\n",
    "    random_state=42,\n",
    "    n_jobs=-1  # Use all available CPU cores\n",
    ")\n",
    "\n",
    "random_search.fit(X_train, y_train)\n",
    "\n",
    "# Best model\n",
    "best_rf = random_search.best_estimator_\n",
    "print(\"Best Parameters:\", random_search.best_params_)\n"
   ]
  },
  {
   "cell_type": "code",
   "execution_count": 68,
   "metadata": {},
   "outputs": [
    {
     "name": "stdout",
     "output_type": "stream",
     "text": [
      "Accuracy: 0.9420821114369502\n",
      "Classification Report:\n",
      "               precision    recall  f1-score   support\n",
      "\n",
      "           0       0.98      0.96      0.97      1303\n",
      "           1       0.40      0.62      0.49        61\n",
      "\n",
      "    accuracy                           0.94      1364\n",
      "   macro avg       0.69      0.79      0.73      1364\n",
      "weighted avg       0.96      0.94      0.95      1364\n",
      "\n",
      "Confusion Matrix:\n",
      " [[1247   56]\n",
      " [  23   38]]\n"
     ]
    }
   ],
   "source": [
    "from sklearn.ensemble import RandomForestClassifier\n",
    "from sklearn.metrics import accuracy_score, classification_report, confusion_matrix\n",
    "\n",
    "final_rf = RandomForestClassifier(\n",
    "    class_weight='balanced',\n",
    "    max_depth=10,\n",
    "    min_samples_leaf=1,\n",
    "    min_samples_split=5,\n",
    "    n_estimators=77,\n",
    "    random_state=42\n",
    ")\n",
    "\n",
    "final_rf.fit(X_train, y_train)\n",
    "\n",
    "# Make predictions\n",
    "y_pred = final_rf.predict(X_test)\n",
    "\n",
    "# Evaluate the model\n",
    "print(\"Accuracy:\", accuracy_score(y_test, y_pred))\n",
    "print(\"Classification Report:\\n\", classification_report(y_test, y_pred))\n",
    "print(\"Confusion Matrix:\\n\", confusion_matrix(y_test, y_pred))\n"
   ]
  },
  {
   "cell_type": "code",
   "execution_count": 69,
   "metadata": {},
   "outputs": [
    {
     "name": "stdout",
     "output_type": "stream",
     "text": [
      "Classification Report:\n",
      "               precision    recall  f1-score   support\n",
      "\n",
      "           0       0.98      0.95      0.97      1303\n",
      "           1       0.38      0.69      0.49        61\n",
      "\n",
      "    accuracy                           0.94      1364\n",
      "   macro avg       0.68      0.82      0.73      1364\n",
      "weighted avg       0.96      0.94      0.94      1364\n",
      "\n",
      "Confusion Matrix:\n",
      " [[1235   68]\n",
      " [  19   42]]\n"
     ]
    }
   ],
   "source": [
    "y_prob = final_rf.predict_proba(X_test)[:, 1]\n",
    "\n",
    "# Set a custom threshold (e.g., 0.4 instead of 0.5)\n",
    "custom_threshold = 0.4\n",
    "y_pred_custom = (y_prob > custom_threshold).astype(int)\n",
    "\n",
    "# Evaluate the model with the new threshold\n",
    "from sklearn.metrics import classification_report, confusion_matrix\n",
    "print(\"Classification Report:\\n\", classification_report(y_test, y_pred_custom))\n",
    "print(\"Confusion Matrix:\\n\", confusion_matrix(y_test, y_pred_custom))\n"
   ]
  },
  {
   "cell_type": "code",
   "execution_count": 70,
   "metadata": {},
   "outputs": [
    {
     "name": "stdout",
     "output_type": "stream",
     "text": [
      "Classification Report:\n",
      "               precision    recall  f1-score   support\n",
      "\n",
      "           0       0.99      0.86      0.92      1303\n",
      "           1       0.23      0.89      0.37        61\n",
      "\n",
      "    accuracy                           0.86      1364\n",
      "   macro avg       0.61      0.87      0.65      1364\n",
      "weighted avg       0.96      0.86      0.90      1364\n",
      "\n",
      "Confusion Matrix:\n",
      " [[1125  178]\n",
      " [   7   54]]\n"
     ]
    },
    {
     "data": {
      "image/png": "[encoded data removed]",
      "text/plain": [
       "<Figure size 640x480 with 1 Axes>"
      ]
     },
     "metadata": {},
     "output_type": "display_data"
    }
   ],
   "source": [
    "import numpy as np\n",
    "from sklearn.metrics import classification_report, confusion_matrix, roc_curve\n",
    "\n",
    "# Predict probabilities for the test set\n",
    "y_prob = final_rf.predict_proba(X_test)[:, 1]  # Probabilities for Class 1\n",
    "\n",
    "# Fine-tune the threshold\n",
    "custom_threshold = 0.1  # Adjust this value to balance precision and recall\n",
    "y_pred_custom = (y_prob > custom_threshold).astype(int)\n",
    "\n",
    "# Evaluate the model with the adjusted threshold\n",
    "print(\"Classification Report:\\n\", classification_report(y_test, y_pred_custom))\n",
    "print(\"Confusion Matrix:\\n\", confusion_matrix(y_test, y_pred_custom))\n",
    "\n",
    "# ROC curve to visualize threshold impact\n",
    "import matplotlib.pyplot as plt\n",
    "fpr, tpr, thresholds = roc_curve(y_test, y_prob)\n",
    "plt.plot(thresholds, tpr, label=\"True Positive Rate\")\n",
    "plt.plot(thresholds, 1 - fpr, label=\"False Positive Rate\")\n",
    "plt.xlabel(\"Threshold\")\n",
    "plt.ylabel(\"Rate\")\n",
    "plt.title(\"Impact of Threshold on TPR and FPR\")\n",
    "plt.legend()\n",
    "plt.show()\n"
   ]
  },
  {
   "cell_type": "code",
   "execution_count": 71,
   "metadata": {},
   "outputs": [
    {
     "name": "stdout",
     "output_type": "stream",
     "text": [
      "Classification Report:\n",
      "               precision    recall  f1-score   support\n",
      "\n",
      "           0       1.00      0.63      0.78      1303\n",
      "           1       0.11      0.97      0.20        61\n",
      "\n",
      "    accuracy                           0.65      1364\n",
      "   macro avg       0.55      0.80      0.49      1364\n",
      "weighted avg       0.96      0.65      0.75      1364\n",
      "\n",
      "Confusion Matrix:\n",
      " [[827 476]\n",
      " [  2  59]]\n"
     ]
    }
   ],
   "source": [
    "import numpy as np\n",
    "from sklearn.metrics import classification_report, confusion_matrix\n",
    "\n",
    "# Predict probabilities for Class 1 (Bankrupt)\n",
    "y_prob = final_rf.predict_proba(X_test)[:, 1]\n",
    "\n",
    "# Adjust the threshold\n",
    "custom_threshold = 0.01  # Lower threshold for higher recall\n",
    "y_pred_custom = (y_prob > custom_threshold).astype(int)\n",
    "\n",
    "# Evaluate the adjusted predictions\n",
    "print(\"Classification Report:\\n\", classification_report(y_test, y_pred_custom))\n",
    "print(\"Confusion Matrix:\\n\", confusion_matrix(y_test, y_pred_custom))\n"
   ]
  },
  {
   "cell_type": "code",
   "execution_count": 72,
   "metadata": {},
   "outputs": [
    {
     "name": "stdout",
     "output_type": "stream",
     "text": [
      "Safe companies (class 0) averages:\n",
      "Net Income to Total Assets               0.810170\n",
      "Net worth/Assets                         0.889094\n",
      "Retained Earnings to Total Assets        0.935767\n",
      "Net profit before tax/Paid-in capital    0.183773\n",
      "Working Capital to Total Assets          0.815761\n",
      "Net Income to Stockholder's Equity       0.840890\n",
      "Current Liability to Current Assets      0.030801\n",
      "Liability to Equity                      0.279957\n",
      "Net Value Per Share (A)                  0.191867\n",
      "Current Liability to Assets              0.089083\n",
      "dtype: float64\n",
      "\n",
      "Risky companies (class 1) averages:\n",
      "Net Income to Total Assets               0.741200\n",
      "Net worth/Assets                         0.813328\n",
      "Retained Earnings to Total Assets        0.904449\n",
      "Net profit before tax/Paid-in capital    0.149752\n",
      "Working Capital to Total Assets          0.755923\n",
      "Net Income to Stockholder's Equity       0.819876\n",
      "Current Liability to Current Assets      0.055232\n",
      "Liability to Equity                      0.299084\n",
      "Net Value Per Share (A)                  0.160349\n",
      "Current Liability to Assets              0.143375\n",
      "dtype: float64\n"
     ]
    }
   ],
   "source": [
    "# Look at some statistics from your training data\n",
    "print(\"Safe companies (class 0) averages:\")\n",
    "print(X_train[y_train == 0].mean())\n",
    "print(\"\\nRisky companies (class 1) averages:\")\n",
    "print(X_train[y_train == 1].mean())"
   ]
  },
  {
   "cell_type": "code",
   "execution_count": 73,
   "metadata": {},
   "outputs": [
    {
     "name": "stdout",
     "output_type": "stream",
     "text": [
      "Your columns: ['Net Income to Total Assets', 'Net worth/Assets', 'Retained Earnings to Total Assets', 'Net profit before tax/Paid-in capital', 'Working Capital to Total Assets', \"Net Income to Stockholder's Equity\", 'Current Liability to Current Assets', 'Liability to Equity', 'Net Value Per Share (A)', 'Current Liability to Assets']\n"
     ]
    }
   ],
   "source": [
    "# First, let's see what your columns actually are\n",
    "print(\"Your columns:\", X_train.columns.tolist())\n",
    "\n",
    "# Then create the DataFrame with the correct column names\n",
    "columns = [\n",
    "    'Net Income to Total Assets',\n",
    "    'Net worth/Assets',\n",
    "    'Retained Earnings to Total Assets',\n",
    "    'Net profit before tax/Paid-in capital',\n",
    "    'Working Capital to Total Assets',\n",
    "    'Net Income to Stockholder\\'s Equity',\n",
    "    'Current Liability to Current Assets',\n",
    "    'Liability to Equity',\n",
    "    'Net Value Per Share (A)',\n",
    "    'Current Liability to Assets'\n",
    "]\n",
    "\n",
    "# Very safe company\n",
    "very_safe_df = pd.DataFrame([\n",
    "    [0.85, 0.92, 0.96, 0.20, 0.85, 0.88, 0.02, 0.25, 0.22, 0.07]\n",
    "], columns=columns)\n",
    "\n",
    "# Very risky company\n",
    "very_risky_df = pd.DataFrame([\n",
    "    [0.65, 0.75, 0.85, 0.12, 0.70, 0.75, 0.08, 0.35, 0.13, 0.18]\n",
    "], columns=columns)"
   ]
  },
  {
   "cell_type": "code",
   "execution_count": 74,
   "metadata": {},
   "outputs": [
    {
     "data": {
      "text/plain": [
       "['Net Income to Total Assets',\n",
       " 'Net worth/Assets',\n",
       " 'Retained Earnings to Total Assets',\n",
       " 'Net profit before tax/Paid-in capital',\n",
       " 'Working Capital to Total Assets',\n",
       " \"Net Income to Stockholder's Equity\",\n",
       " 'Current Liability to Current Assets',\n",
       " 'Liability to Equity',\n",
       " 'Net Value Per Share (A)',\n",
       " 'Current Liability to Assets']"
      ]
     },
     "execution_count": 74,
     "metadata": {},
     "output_type": "execute_result"
    }
   ],
   "source": [
    "X_train.columns.tolist()"
   ]
  },
  {
   "cell_type": "code",
   "execution_count": 75,
   "metadata": {},
   "outputs": [
    {
     "name": "stdout",
     "output_type": "stream",
     "text": [
      "Safe Company: [0]\n",
      "Risky Company: [1]\n"
     ]
    }
   ],
   "source": [
    "\n",
    "columns = ['Net Income to Total Assets',\n",
    "           'Net worth/Assets',\n",
    "           'Retained Earnings to Total Assets',\n",
    "           'Net profit before tax/Paid-in capital',\n",
    "           'Working Capital to Total Assets',\n",
    "           \"Net Income to Stockholder's Equity\",\n",
    "           'Current Liability to Current Assets',\n",
    "           'Liability to Equity',\n",
    "           'Net Value Per Share (A)',\n",
    "           'Current Liability to Assets']\n",
    "\n",
    "# Very safe company\n",
    "very_safe_df = pd.DataFrame([\n",
    "    [0.85, 0.92, 0.96, 0.20, 0.85, 0.88, 0.02, 0.25, 0.22, 0.07]\n",
    "], columns=columns)\n",
    "\n",
    "# Very risky company\n",
    "very_risky_df = pd.DataFrame([\n",
    "    [0.65, 0.75, 0.85, 0.12, 0.70, 0.75, 0.08, 0.35, 0.13, 0.18]\n",
    "], columns=columns)\n",
    "\n",
    "# Test them\n",
    "print(\"Safe Company:\", final_rf.predict(very_safe_df))\n",
    "print(\"Risky Company:\", final_rf.predict(very_risky_df))"
   ]
  },
  {
   "cell_type": "code",
   "execution_count": 76,
   "metadata": {},
   "outputs": [
    {
     "name": "stdout",
     "output_type": "stream",
     "text": [
      "Classification Report:\n",
      "              precision    recall  f1-score   support\n",
      "\n",
      "           0       1.00      0.84      0.91      1303\n",
      "           1       0.21      0.92      0.35        61\n",
      "\n",
      "    accuracy                           0.85      1364\n",
      "   macro avg       0.61      0.88      0.63      1364\n",
      "weighted avg       0.96      0.85      0.89      1364\n",
      "\n"
     ]
    }
   ],
   "source": [
    "from sklearn.metrics import classification_report, confusion_matrix, recall_score, precision_score\n",
    "\n",
    "# Get predictions on test set\n",
    "y_pred = final_rf.predict(X_test)\n",
    "y_pred_proba = final_rf.predict_proba(X_test)[:, 1]\n",
    "\n",
    "# Using your custom threshold\n",
    "y_pred_custom = (y_pred_proba > 0.08).astype(int)  # Using your 0.08 threshold\n",
    "\n",
    "# Print detailed classification report\n",
    "print(\"Classification Report:\")\n",
    "print(classification_report(y_test, y_pred_custom))"
   ]
  },
  {
   "cell_type": "code",
   "execution_count": 77,
   "metadata": {},
   "outputs": [
    {
     "name": "stdout",
     "output_type": "stream",
     "text": [
      "Classification Report:\n",
      "              precision    recall  f1-score   support\n",
      "\n",
      "           0       1.00      0.84      0.91      1303\n",
      "           1       0.21      0.92      0.35        61\n",
      "\n",
      "    accuracy                           0.85      1364\n",
      "   macro avg       0.61      0.88      0.63      1364\n",
      "weighted avg       0.96      0.85      0.89      1364\n",
      "\n",
      "\n",
      "Confusion Matrix:\n",
      "[[1098  205]\n",
      " [   5   56]]\n"
     ]
    }
   ],
   "source": [
    "class CustomThresholdModel:\n",
    "    def __init__(self, model, threshold=0.08):\n",
    "        self.model = model\n",
    "        self.threshold = threshold\n",
    "        self.columns = ['Net Income to Total Assets',\n",
    "                       'Net worth/Assets',\n",
    "                       'Retained Earnings to Total Assets',\n",
    "                       'Net profit before tax/Paid-in capital',\n",
    "                       'Working Capital to Total Assets',\n",
    "                       \"Net Income to Stockholder's Equity\",\n",
    "                       'Current Liability to Current Assets',\n",
    "                       'Liability to Equity',\n",
    "                       'Net Value Per Share (A)',\n",
    "                       'Current Liability to Assets']\n",
    "    \n",
    "    def predict(self, X):\n",
    "        return (self.model.predict_proba(X)[:, 1] > self.threshold).astype(int)\n",
    "    \n",
    "    def predict_proba(self, X):\n",
    "        return self.model.predict_proba(X)\n",
    "    \n",
    "    def get_risk_level(self, X):\n",
    "        \"\"\"Returns a qualitative risk assessment based on probability.\"\"\"\n",
    "        prob = self.predict_proba(X)[0, 1]\n",
    "        if prob < 0.05:\n",
    "            return \"Very Safe\"\n",
    "        elif prob < 0.10:\n",
    "            return \"Moderately Safe\"\n",
    "        elif prob < 0.20:\n",
    "            return \"Slightly Risky\"\n",
    "        elif prob < 0.30:\n",
    "            return \"Risky\"\n",
    "        else:\n",
    "            return \"High Risk\"\n",
    "    \n",
    "    def detailed_analysis(self, X):\n",
    "        \"\"\"Provides a detailed analysis of the prediction.\"\"\"\n",
    "        prob = self.predict_proba(X)[0, 1]\n",
    "        prediction = self.predict(X)[0]\n",
    "        risk_level = self.get_risk_level(X)\n",
    "        \n",
    "        return {\n",
    "            'prediction': 'Needs Review' if prediction == 1 else 'Safe',\n",
    "            'risk_probability': round(prob, 3),\n",
    "            'risk_level': risk_level,\n",
    "            'threshold_used': self.threshold\n",
    "        }\n",
    "    \n",
    "    def validate_input(self, X):\n",
    "        \"\"\"Validates that input data has correct format and columns.\"\"\"\n",
    "        if isinstance(X, pd.DataFrame):\n",
    "            if list(X.columns) != self.columns:\n",
    "                raise ValueError(\"Input DataFrame must have the correct columns in the correct order\")\n",
    "            if X.shape[1] != 10:\n",
    "                raise ValueError(\"Input must have exactly 10 features\")\n",
    "        elif isinstance(X, np.ndarray):\n",
    "            if X.shape[1] != 10:\n",
    "                raise ValueError(\"Input must have exactly 10 features\")\n",
    "        return True\n",
    "    \n",
    "    def explain_prediction(self, X):\n",
    "        \"\"\"Provides feature importance and contribution to the prediction.\"\"\"\n",
    "        if not isinstance(X, pd.DataFrame):\n",
    "            X = pd.DataFrame(X, columns=self.columns)\n",
    "        \n",
    "        # Get feature importances\n",
    "        importances = self.model.feature_importances_\n",
    "        feature_importance = pd.DataFrame({\n",
    "            'feature': self.columns,\n",
    "            'importance': importances\n",
    "        }).sort_values('importance', ascending=False)\n",
    "        \n",
    "        # Get prediction details\n",
    "        analysis = self.detailed_analysis(X)\n",
    "        \n",
    "        return {\n",
    "            'prediction_details': analysis,\n",
    "            'feature_importance': feature_importance,\n",
    "            'input_values': X.iloc[0].to_dict()\n",
    "        }\n",
    "    \n",
    "    def set_threshold(self, new_threshold):\n",
    "        \"\"\"Allows updating the threshold value.\"\"\"\n",
    "        if 0 <= new_threshold <= 1:\n",
    "            self.threshold = new_threshold\n",
    "        else:\n",
    "            raise ValueError(\"Threshold must be between 0 and 1\")\n",
    "            \n",
    "    def batch_predict(self, X):\n",
    "        \"\"\"Handles batch predictions with detailed results.\"\"\"\n",
    "        if not isinstance(X, pd.DataFrame):\n",
    "            X = pd.DataFrame(X, columns=self.columns)\n",
    "        \n",
    "        probas = self.predict_proba(X)[:, 1]\n",
    "        predictions = (probas > self.threshold).astype(int)\n",
    "        \n",
    "        results = pd.DataFrame({\n",
    "            'prediction': ['Needs Review' if p == 1 else 'Safe' for p in predictions],\n",
    "            'risk_probability': probas,\n",
    "            'risk_level': [self.get_risk_level(x.reshape(1, -1)) for x in X.values]\n",
    "        })\n",
    "        \n",
    "        return results\n",
    "# Create the creddy model instance\n",
    "creddy = CustomThresholdModel(final_rf, threshold=0.08)\n",
    "\n",
    "# Now you can evaluate using creddy\n",
    "y_pred_creddy = creddy.predict(X_test)\n",
    "\n",
    "print(\"Classification Report:\")\n",
    "print(classification_report(y_test, y_pred_creddy))\n",
    "\n",
    "print(\"\\nConfusion Matrix:\")\n",
    "print(confusion_matrix(y_test, y_pred_creddy))"
   ]
  },
  {
   "cell_type": "code",
   "execution_count": 79,
   "metadata": {},
   "outputs": [
    {
     "name": "stdout",
     "output_type": "stream",
     "text": [
      "Safe Company: [0]\n",
      "Risky Company: [1]\n"
     ]
    }
   ],
   "source": [
    "very_safe_df = pd.DataFrame([\n",
    "    [0.85, 0.92, 0.96, 0.20, 0.85, 0.88, 0.02, 0.25, 0.22, 0.07]\n",
    "], columns=columns)\n",
    "\n",
    "# Very risky company\n",
    "very_risky_df = pd.DataFrame([\n",
    "    [0.65, 0.75, 0.85, 0.12, 0.70, 0.75, 0.08, 0.35, 0.13, 0.18]\n",
    "], columns=columns)\n",
    "\n",
    "# Test them\n",
    "print(\"Safe Company:\", creddy.predict(very_safe_df))\n",
    "print(\"Risky Company:\", creddy.predict(very_risky_df))"
   ]
  },
  {
   "cell_type": "code",
   "execution_count": 80,
   "metadata": {},
   "outputs": [
    {
     "name": "stdout",
     "output_type": "stream",
     "text": [
      "\n",
      "Extremely Safe:\n",
      "Prediction: 0 (Safe)\n",
      "Risk Probability: 0.012\n",
      "--------------------------------------------------\n",
      "\n",
      "Very Safe:\n",
      "Prediction: 0 (Safe)\n",
      "Risk Probability: 0.012\n",
      "--------------------------------------------------\n",
      "\n",
      "Moderately Safe:\n",
      "Prediction: 0 (Safe)\n",
      "Risk Probability: 0.050\n",
      "--------------------------------------------------\n",
      "\n",
      "Borderline:\n",
      "Prediction: 1 (Needs Review)\n",
      "Risk Probability: 0.664\n",
      "--------------------------------------------------\n",
      "\n",
      "Slightly Risky:\n",
      "Prediction: 1 (Needs Review)\n",
      "Risk Probability: 0.774\n",
      "--------------------------------------------------\n",
      "\n",
      "Very Risky:\n",
      "Prediction: 1 (Needs Review)\n",
      "Risk Probability: 0.939\n",
      "--------------------------------------------------\n",
      "\n",
      "Extremely Risky:\n",
      "Prediction: 1 (Needs Review)\n",
      "Risk Probability: 0.806\n",
      "--------------------------------------------------\n"
     ]
    }
   ],
   "source": [
    "# Create multiple test cases\n",
    "test_cases = {\n",
    "    'Extremely Safe': [\n",
    "        [0.90, 0.95, 0.98, 0.25, 0.90, 0.92, 0.01, 0.20, 0.25, 0.05]\n",
    "    ],\n",
    "    'Very Safe': [\n",
    "        [0.85, 0.92, 0.96, 0.20, 0.85, 0.88, 0.02, 0.25, 0.22, 0.07]\n",
    "    ],\n",
    "    'Moderately Safe': [\n",
    "        [0.82, 0.88, 0.93, 0.18, 0.82, 0.85, 0.03, 0.27, 0.20, 0.09]\n",
    "    ],\n",
    "    'Borderline': [\n",
    "        [0.75, 0.83, 0.89, 0.15, 0.77, 0.82, 0.05, 0.31, 0.17, 0.12]\n",
    "    ],\n",
    "    'Slightly Risky': [\n",
    "        [0.70, 0.80, 0.87, 0.13, 0.73, 0.78, 0.07, 0.33, 0.15, 0.15]\n",
    "    ],\n",
    "    'Very Risky': [\n",
    "        [0.65, 0.75, 0.85, 0.12, 0.70, 0.75, 0.08, 0.35, 0.13, 0.18]\n",
    "    ],\n",
    "    'Extremely Risky': [\n",
    "        [0.60, 0.70, 0.80, 0.10, 0.65, 0.70, 0.10, 0.40, 0.10, 0.20]\n",
    "    ]\n",
    "}\n",
    "\n",
    "# Create DataFrame with correct column names\n",
    "columns = ['Net Income to Total Assets',\n",
    "           'Net worth/Assets',\n",
    "           'Retained Earnings to Total Assets',\n",
    "           'Net profit before tax/Paid-in capital',\n",
    "           'Working Capital to Total Assets',\n",
    "           \"Net Income to Stockholder's Equity\",\n",
    "           'Current Liability to Current Assets',\n",
    "           'Liability to Equity',\n",
    "           'Net Value Per Share (A)',\n",
    "           'Current Liability to Assets']\n",
    "\n",
    "# Test each case\n",
    "for case_name, values in test_cases.items():\n",
    "    test_df = pd.DataFrame(values, columns=columns)\n",
    "    prediction = creddy.predict(test_df)\n",
    "    probability = final_rf.predict_proba(test_df)[0, 1]\n",
    "    \n",
    "    print(f\"\\n{case_name}:\")\n",
    "    print(f\"Prediction: {prediction[0]} ({'Needs Review' if prediction[0] == 1 else 'Safe'})\")\n",
    "    print(f\"Risk Probability: {probability:.3f}\")\n",
    "    print(\"-\" * 50)"
   ]
  },
  {
   "cell_type": "code",
   "execution_count": 81,
   "metadata": {},
   "outputs": [
    {
     "data": {
      "text/plain": [
       "array([1])"
      ]
     },
     "execution_count": 81,
     "metadata": {},
     "output_type": "execute_result"
    }
   ],
   "source": [
    "columns = ['Net Income to Total Assets',\n",
    "           'Net worth/Assets',\n",
    "           'Retained Earnings to Total Assets',\n",
    "           'Net profit before tax/Paid-in capital',\n",
    "           'Working Capital to Total Assets',\n",
    "           \"Net Income to Stockholder's Equity\",\n",
    "           'Current Liability to Current Assets',\n",
    "           'Liability to Equity',\n",
    "           'Net Value Per Share (A)',\n",
    "           'Current Liability to Assets']\n",
    "\n",
    "test_df = pd.DataFrame([[0.75, 0.83, 0.89, 0.15, 0.77, 0.82, 0.05, 0.31, 0.17, 0.12]], columns=columns)\n",
    "creddy.predict(test_df)"
   ]
  },
  {
   "cell_type": "code",
   "execution_count": 82,
   "metadata": {},
   "outputs": [
    {
     "name": "stdout",
     "output_type": "stream",
     "text": [
      "High Profit Low Assets:\n",
      "Prediction: 0 (Safe)\n",
      "Risk Probability: 0.075\n",
      "--------------------------------------------------\n",
      "Asset Rich Cash Poor:\n",
      "Prediction: 1 (Needs Review)\n",
      "Risk Probability: 0.102\n",
      "--------------------------------------------------\n",
      "Debt Heavy Growth:\n",
      "Prediction: 1 (Needs Review)\n",
      "Risk Probability: 0.188\n",
      "--------------------------------------------------\n",
      "New Company Profile:\n",
      "Prediction: 0 (Safe)\n",
      "Risk Probability: 0.050\n",
      "--------------------------------------------------\n",
      "Turnaround Case:\n",
      "Prediction: 1 (Needs Review)\n",
      "Risk Probability: 0.137\n",
      "--------------------------------------------------\n"
     ]
    }
   ],
   "source": [
    "# Test cases designed to evaluate the model\n",
    "test_cases = {\n",
    "    'High Profit Low Assets': [[0.95, 0.70, 0.92, 0.25, 0.85, 0.95, 0.02, 0.25, 0.20, 0.06]],\n",
    "    'Asset Rich Cash Poor': [[0.65, 0.90, 0.95, 0.12, 0.65, 0.70, 0.08, 0.20, 0.30, 0.15]],\n",
    "    'Debt Heavy Growth': [[0.82, 0.75, 0.85, 0.20, 0.80, 0.85, 0.09, 0.40, 0.15, 0.18]],\n",
    "    'New Company Profile': [[0.85, 0.88, 0.60, 0.22, 0.85, 0.87, 0.03, 0.25, 0.22, 0.07]],\n",
    "    'Turnaround Case': [[0.85, 0.83, 0.70, 0.21, 0.82, 0.84, 0.06, 0.32, 0.18, 0.12]],\n",
    "}\n",
    "\n",
    "# Test each case and print the output\n",
    "for case_name, values in test_cases.items():\n",
    "    test_df = pd.DataFrame(values, columns=creddy.columns)\n",
    "    prediction = creddy.predict(test_df)\n",
    "    probability = creddy.predict_proba(test_df)[0, 1]\n",
    "    \n",
    "    print(f\"{case_name}:\")\n",
    "    print(f\"Prediction: {prediction[0]} ({'Needs Review' if prediction[0] == 1 else 'Safe'})\")\n",
    "    print(f\"Risk Probability: {probability:.3f}\")\n",
    "    print(\"-\" * 50)"
   ]
  },
  {
   "cell_type": "code",
   "execution_count": 38,
   "metadata": {},
   "outputs": [
    {
     "name": "stdout",
     "output_type": "stream",
     "text": [
      "Borderline Everything:\n",
      "Prediction: 1 (Needs Review)\n",
      "Risk Probability: 0.185\n",
      "--------------------------------------------------\n",
      "Mixed Signals:\n",
      "Prediction: 1 (Needs Review)\n",
      "Risk Probability: 0.164\n",
      "--------------------------------------------------\n",
      "Extreme Leverage:\n",
      "Prediction: 1 (Needs Review)\n",
      "Risk Probability: 0.126\n",
      "--------------------------------------------------\n",
      "Industry Specific:\n",
      "Prediction: 0 (Safe)\n",
      "Risk Probability: 0.025\n",
      "--------------------------------------------------\n",
      "Recovery Case:\n",
      "Prediction: 0 (Safe)\n",
      "Risk Probability: 0.033\n",
      "--------------------------------------------------\n"
     ]
    }
   ],
   "source": [
    "# Test cases designed to evaluate the model\n",
    "test_cases = {\n",
    "   'Borderline Everything': [[0.80, 0.80, 0.80, 0.15, 0.80, 0.80, 0.05, 0.30, 0.20, 0.10]],\n",
    "    'Mixed Signals': [[0.90, 0.65, 0.88, 0.23, 0.87, 0.89, 0.08, 0.38, 0.14, 0.16]],\n",
    "    'Extreme Leverage': [[0.83, 0.82, 0.85, 0.19, 0.81, 0.84, 0.04, 0.45, 0.21, 0.08]],\n",
    "    'Industry Specific': [[0.75, 0.95, 0.90, 0.14, 0.90, 0.76, 0.02, 0.15, 0.35, 0.05]],\n",
    "    'Recovery Case': [[0.83, 0.85, 0.75, 0.18, 0.84, 0.85, 0.05, 0.28, 0.21, 0.09]]\n",
    "}\n",
    "\n",
    "# Test each case and print the output\n",
    "for case_name, values in test_cases.items():\n",
    "    test_df = pd.DataFrame(values, columns=creddy.columns)\n",
    "    prediction = creddy.predict(test_df)\n",
    "    probability = creddy.predict_proba(test_df)[0, 1]\n",
    "    \n",
    "    print(f\"{case_name}:\")\n",
    "    print(f\"Prediction: {prediction[0]} ({'Needs Review' if prediction[0] == 1 else 'Safe'})\")\n",
    "    print(f\"Risk Probability: {probability:.3f}\")\n",
    "    print(\"-\" * 50)"
   ]
  },
  {
   "cell_type": "code",
   "execution_count": 83,
   "metadata": {},
   "outputs": [
    {
     "name": "stdout",
     "output_type": "stream",
     "text": [
      "Slightly Risky Company:\n",
      "Prediction: 1 (Needs Review)\n",
      "Risk Probability: 0.537\n"
     ]
    }
   ],
   "source": [
    "# Slightly risky company\n",
    "slightly_risky_df = pd.DataFrame([\n",
    "    [0.70, 0.78, 0.85, 0.15, 0.75, 0.80, 0.06, 0.30, 0.18, 0.12]\n",
    "], columns=columns)\n",
    "\n",
    "# Test the prediction\n",
    "prediction = creddy.predict(slightly_risky_df)\n",
    "probability = creddy.predict_proba(slightly_risky_df)[0, 1]\n",
    "\n",
    "print(\"Slightly Risky Company:\")\n",
    "print(f\"Prediction: {prediction[0]} ({'Needs Review' if prediction[0] == 1 else 'Safe'})\")\n",
    "print(f\"Risk Probability: {probability:.3f}\")"
   ]
  },
  {
   "cell_type": "code",
   "execution_count": 84,
   "metadata": {},
   "outputs": [
    {
     "name": "stdout",
     "output_type": "stream",
     "text": [
      "Slightly Safe Company:\n",
      "Prediction: 0 (Safe)\n",
      "Risk Probability: 0.068\n"
     ]
    }
   ],
   "source": [
    "# Slightly safe company\n",
    "slightly_safe_df = pd.DataFrame([\n",
    "    [0.80, 0.85, 0.90, 0.18, 0.80, 0.85, 0.03, 0.25, 0.20, 0.10]\n",
    "], columns=columns)\n",
    "\n",
    "# Test the prediction\n",
    "prediction = creddy.predict(slightly_safe_df)\n",
    "probability = creddy.predict_proba(slightly_safe_df)[0, 1]\n",
    "\n",
    "print(\"Slightly Safe Company:\")\n",
    "print(f\"Prediction: {prediction[0]} ({'Needs Review' if prediction[0] == 1 else 'Safe'})\")\n",
    "print(f\"Risk Probability: {probability:.3f}\")"
   ]
  },
  {
   "cell_type": "code",
   "execution_count": 47,
   "metadata": {},
   "outputs": [
    {
     "name": "stdout",
     "output_type": "stream",
     "text": [
      "Precision: 0.215\n",
      "Recall: 0.918\n"
     ]
    }
   ],
   "source": [
    "from sklearn.metrics import precision_score, recall_score\n",
    "\n",
    "# Assuming you have a test set with true labels\n",
    "# X_test: features of the test set\n",
    "# y_test: true labels (0 for safe, 1 for at-risk)\n",
    "\n",
    "# Make predictions using the creddy model\n",
    "y_pred = creddy.predict(X_test)\n",
    "\n",
    "# Calculate precision and recall\n",
    "precision = precision_score(y_test, y_pred)\n",
    "recall = recall_score(y_test, y_pred)\n",
    "\n",
    "print(f\"Precision: {precision:.3f}\")\n",
    "print(f\"Recall: {recall:.3f}\")"
   ]
  },
  {
   "cell_type": "code",
   "execution_count": null,
   "metadata": {},
   "outputs": [],
   "source": []
  }
 ],
 "metadata": {
  "kernelspec": {
   "display_name": "myenv",
   "language": "python",
   "name": "python3"
  },
  "language_info": {
   "codemirror_mode": {
    "name": "ipython",
    "version": 3
   },
   "file_extension": ".py",
   "mimetype": "text/x-python",
   "name": "python",
   "nbconvert_exporter": "python",
   "pygments_lexer": "ipython3",
   "version": "3.9.6"
  }
 },
 "nbformat": 4,
 "nbformat_minor": 2
}
